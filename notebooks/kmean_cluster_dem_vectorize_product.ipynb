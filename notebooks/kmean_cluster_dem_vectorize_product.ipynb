{
 "cells": [
  {
   "cell_type": "markdown",
   "metadata": {},
   "source": [
    "### This notebook provides the workflow of zone creation using a single Digital Elevation Model (DEM)in geotiff format and convert the map to vector format in ESRI shapefile.\n",
    "\n",
    "#### Main process includes \n",
    "\n",
    "1. read single raster file\n",
    "2. normalize pixel values using the ECEF method\n",
    "3. run k-means clustering algorithm and create zones\n",
    "4. covert zone maps (in raster format) to vector file\n",
    "5. <span style=\"color:gray\"> (optional) removing small clusters </span>\n",
    "6. clipping zone maps to field geometry\n",
    "\n",
    "#### In data folder, there are 2 sample images with different spatial resolutions (pixel size). Coordinate Reference System for this example is the WGS84 and can be used other CRS system or input geotiff can be reprojected. \n",
    "* <span style=\"color:blue\"> us_3dep_10m_sample.tif - 10 m spatial resolution </span>\n",
    "* <span style=\"color:blue\"> ca_hidef_1m_sample.tif - 1 m spatial resolution </span>\n",
    "\n",
    "#### field geometry (in wkt format) file that corresponds to locations of each DEM file\n",
    "* <span style=\"color:blue\"> sample_data_geometry.csv </span>"
   ]
  },
  {
   "cell_type": "code",
   "execution_count": null,
   "metadata": {},
   "outputs": [],
   "source": [
    "import os\n",
    "import geopandas as gpd\n",
    "import matplotlib.pyplot as plt\n",
    "import pandas as pd\n",
    "import rasterio\n",
    "import matplotlib\n",
    "import numpy as np\n",
    "from osgeo import gdal, ogr\n",
    "import seaborn as sns\n",
    "from shapely import wkt\n",
    "\n",
    "import custom_geospatial_utils as utils\n",
    "\n",
    "from rasterio import features\n",
    "from rasterio.mask import mask\n",
    "from sklearn.cluster import KMeans\n",
    "from statsmodels.distributions.empirical_distribution import ECDF\n",
    "\n",
    "# this allows GDAL to throw Python Exceptions\n",
    "gdal.UseExceptions()\n",
    "\n",
    "import warnings\n",
    "warnings.simplefilter(action='ignore', category=FutureWarning)"
   ]
  },
  {
   "cell_type": "code",
   "execution_count": null,
   "metadata": {},
   "outputs": [],
   "source": [
    "data_dir = '/data/'"
   ]
  },
  {
   "cell_type": "markdown",
   "metadata": {},
   "source": [
    "### try image clustering"
   ]
  },
  {
   "cell_type": "code",
   "execution_count": null,
   "metadata": {},
   "outputs": [],
   "source": [
    "# read an image file\n",
    "field = 'us_3dep_10m_sample'\n",
    "infile = os.path.join(data_dir, field + '.tif')"
   ]
  },
  {
   "cell_type": "markdown",
   "metadata": {},
   "source": [
    "### load a raster file using rasterio and load a ndarray object"
   ]
  },
  {
   "cell_type": "code",
   "execution_count": null,
   "metadata": {},
   "outputs": [],
   "source": [
    "with rasterio.open(infile) as src:\n",
    "    dem_arr = src.read()\n",
    "    profile = src.profile"
   ]
  },
  {
   "cell_type": "markdown",
   "metadata": {},
   "source": [
    "###  make the input array to 2d, rasterio loads raster files into 3d formats (band, rows, cols)"
   ]
  },
  {
   "cell_type": "code",
   "execution_count": null,
   "metadata": {},
   "outputs": [],
   "source": [
    "arr_2d = dem_arr[0, :, :]\n",
    "arr_2d.shape"
   ]
  },
  {
   "cell_type": "code",
   "execution_count": null,
   "metadata": {},
   "outputs": [],
   "source": [
    "plt.imshow(arr_2d)"
   ]
  },
  {
   "cell_type": "markdown",
   "metadata": {},
   "source": [
    "#### replace nan value to zero (depending on input raster)"
   ]
  },
  {
   "cell_type": "code",
   "execution_count": null,
   "metadata": {},
   "outputs": [],
   "source": [
    "arr_2d = arr_2d.astype(float)\n",
    "arr_2d[arr_2d==np.nan] = 0"
   ]
  },
  {
   "cell_type": "markdown",
   "metadata": {},
   "source": [
    "### apply normalization using ECDF function"
   ]
  },
  {
   "cell_type": "code",
   "execution_count": null,
   "metadata": {},
   "outputs": [],
   "source": [
    "arr_norm = utils.ecef_normalizer(arr_2d)"
   ]
  },
  {
   "cell_type": "code",
   "execution_count": null,
   "metadata": {},
   "outputs": [],
   "source": [
    "sns.distplot(arr_norm)"
   ]
  },
  {
   "cell_type": "code",
   "execution_count": null,
   "metadata": {},
   "outputs": [],
   "source": [
    "arr_norm = arr_norm.reshape(arr_2d.shape[0], arr_2d.shape[1])\n",
    "arr_norm.shape"
   ]
  },
  {
   "cell_type": "code",
   "execution_count": null,
   "metadata": {},
   "outputs": [],
   "source": [
    "plt.imshow(arr_norm)"
   ]
  },
  {
   "cell_type": "markdown",
   "metadata": {},
   "source": [
    "#### reshape for clustersing, input must be vectorized format"
   ]
  },
  {
   "cell_type": "code",
   "execution_count": null,
   "metadata": {},
   "outputs": [],
   "source": [
    "arr_vec = arr_norm.reshape(-1, 1)\n",
    "arr_vec.shape"
   ]
  },
  {
   "cell_type": "markdown",
   "metadata": {},
   "source": [
    "### define number of zones"
   ]
  },
  {
   "cell_type": "code",
   "execution_count": null,
   "metadata": {},
   "outputs": [],
   "source": [
    "n_zone = 4\n",
    "Kmean = KMeans(n_clusters=n_zone, init='k-means++')"
   ]
  },
  {
   "cell_type": "code",
   "execution_count": null,
   "metadata": {},
   "outputs": [],
   "source": [
    "Kmean.fit(arr_vec)"
   ]
  },
  {
   "cell_type": "markdown",
   "metadata": {},
   "source": [
    "### assign clustering labels and convert back to 2d array"
   ]
  },
  {
   "cell_type": "code",
   "execution_count": null,
   "metadata": {},
   "outputs": [],
   "source": [
    "clustered = Kmean.labels_\n",
    "clustered = clustered.astype(np.float64)\n",
    "clustered = clustered.reshape(arr_2d.shape)\n",
    "clustered.shape"
   ]
  },
  {
   "cell_type": "code",
   "execution_count": null,
   "metadata": {},
   "outputs": [],
   "source": [
    "plt.imshow(clustered)"
   ]
  },
  {
   "cell_type": "code",
   "execution_count": null,
   "metadata": {},
   "outputs": [],
   "source": [
    "print(clustered)"
   ]
  },
  {
   "cell_type": "markdown",
   "metadata": {},
   "source": [
    "#### gdal or rasterio sieve module only take integer format dtype, therefore better to convert dtype before saving to tiff"
   ]
  },
  {
   "cell_type": "code",
   "execution_count": null,
   "metadata": {},
   "outputs": [],
   "source": [
    "clustered = clustered.astype(np.int32)\n",
    "clustered.dtype"
   ]
  },
  {
   "cell_type": "markdown",
   "metadata": {},
   "source": [
    "### covert 2d array back to 3d for writing to a tif file using rasterio  "
   ]
  },
  {
   "cell_type": "code",
   "execution_count": null,
   "metadata": {},
   "outputs": [],
   "source": [
    "cluster_3d = np.reshape(clustered, (-1, clustered.shape[0], clustered.shape[1]))\n",
    "cluster_3d.shape"
   ]
  },
  {
   "cell_type": "markdown",
   "metadata": {},
   "source": [
    "### update rasterio profile with dtype \"int32\", since the \"sieve\" only takes integer dtype"
   ]
  },
  {
   "cell_type": "code",
   "execution_count": null,
   "metadata": {},
   "outputs": [],
   "source": [
    "profile.update({\"dtype\": \"int32\",\n",
    "                \"count\":1,\n",
    "               'nodata': -9999})"
   ]
  },
  {
   "cell_type": "code",
   "execution_count": null,
   "metadata": {},
   "outputs": [],
   "source": [
    "out_name = field + '_{}zones.tif'.format(n_zone)\n",
    "with rasterio.open(os.path.join(data_dir, out_name), \"w\", **profile) as dest:\n",
    "        dest.write(cluster_3d)"
   ]
  },
  {
   "cell_type": "markdown",
   "metadata": {},
   "source": [
    "### <span style=\"color:red\"> Optional: step for removing small clusters </span>"
   ]
  },
  {
   "cell_type": "code",
   "execution_count": null,
   "metadata": {},
   "outputs": [],
   "source": [
    "# raster_path = os.path.join(results_dir, out_name)\n",
    "# out_path = os.path.join(results_dir, field + '_{}zones_sieve.tif'.format(n_zone))\n",
    "\n",
    "# utils.sieve_small_cluster(raster_path, out_path)"
   ]
  },
  {
   "cell_type": "markdown",
   "metadata": {},
   "source": [
    "### convert raster data to shp\n",
    "#### for this step, use a gdal library, gdal_polygonize and detail usage can be found here\n",
    "https://gdal.org/programs/gdal_polygonize.html"
   ]
  },
  {
   "cell_type": "code",
   "execution_count": null,
   "metadata": {},
   "outputs": [],
   "source": [
    "out_name = field + '_{}zones.tif'.format(n_zone)\n",
    "input_raster = os.path.join(data_dir, out_name)\n",
    "out_shp = os.path.join(data_dir, field + '_{}zones.shp'.format(n_zone)) \n",
    "\n",
    "utils.gdal_convert_raster_to_shp(input_raster, out_shp)"
   ]
  },
  {
   "cell_type": "code",
   "execution_count": null,
   "metadata": {},
   "outputs": [],
   "source": [
    "# check the generated zone shape file\n",
    "shapefile = gpd.read_file(out_shp)\n",
    "shapefile.plot(cmap='OrRd',legend=True)\n",
    "plt.show()"
   ]
  },
  {
   "cell_type": "markdown",
   "metadata": {},
   "source": [
    "### lets make clean and clip to geometry"
   ]
  },
  {
   "cell_type": "markdown",
   "metadata": {},
   "source": [
    "### read geometry file"
   ]
  },
  {
   "cell_type": "code",
   "execution_count": null,
   "metadata": {},
   "outputs": [],
   "source": [
    "geom_df = pd.read_csv(os.path.join(data_dir, 'sample_data_geometry.csv'))"
   ]
  },
  {
   "cell_type": "code",
   "execution_count": null,
   "metadata": {},
   "outputs": [],
   "source": [
    "geom_df"
   ]
  },
  {
   "cell_type": "markdown",
   "metadata": {},
   "source": [
    "#### subset dataframe with corresponding geometry"
   ]
  },
  {
   "cell_type": "code",
   "execution_count": null,
   "metadata": {},
   "outputs": [],
   "source": [
    "geom_df = geom_df.loc[geom_df.field == field]"
   ]
  },
  {
   "cell_type": "code",
   "execution_count": null,
   "metadata": {},
   "outputs": [],
   "source": [
    "geom_df"
   ]
  },
  {
   "cell_type": "markdown",
   "metadata": {},
   "source": [
    "### convert to geodataframe"
   ]
  },
  {
   "cell_type": "code",
   "execution_count": null,
   "metadata": {},
   "outputs": [],
   "source": [
    "geom_df['geometry'] = geom_df['geometry_wkt'].apply(wkt.loads)"
   ]
  },
  {
   "cell_type": "code",
   "execution_count": null,
   "metadata": {},
   "outputs": [],
   "source": [
    "gdf_geom = gpd.GeoDataFrame(geom_df, geometry='geometry', crs={'init': 'epsg:4326'})"
   ]
  },
  {
   "cell_type": "code",
   "execution_count": null,
   "metadata": {},
   "outputs": [],
   "source": [
    "gdf_geom.crs"
   ]
  },
  {
   "cell_type": "markdown",
   "metadata": {},
   "source": [
    "### read zone shape file and load into geopandas dataframe"
   ]
  },
  {
   "cell_type": "code",
   "execution_count": null,
   "metadata": {},
   "outputs": [],
   "source": [
    "zone_shp = os.path.join(data_dir, field + '_{}zones.shp'.format(n_zone))\n",
    "gdf_zone = gpd.GeoDataFrame.from_file(zone_shp)"
   ]
  },
  {
   "cell_type": "code",
   "execution_count": null,
   "metadata": {},
   "outputs": [],
   "source": [
    "gdf_zone.head()"
   ]
  },
  {
   "cell_type": "code",
   "execution_count": null,
   "metadata": {},
   "outputs": [],
   "source": [
    "gdf_zone.crs"
   ]
  },
  {
   "cell_type": "code",
   "execution_count": null,
   "metadata": {},
   "outputs": [],
   "source": [
    "## make CRS to the same as the field geometry\n",
    "gdf_zone_wgs84  = gdf_zone.to_crs({'init': 'epsg:4326'})"
   ]
  },
  {
   "cell_type": "code",
   "execution_count": null,
   "metadata": {},
   "outputs": [],
   "source": [
    "gdf_zone_wgs84.crs"
   ]
  },
  {
   "cell_type": "markdown",
   "metadata": {},
   "source": [
    "### apply intersection to geomety for clipping"
   ]
  },
  {
   "cell_type": "code",
   "execution_count": null,
   "metadata": {},
   "outputs": [],
   "source": [
    "zone_clean = gpd.overlay(gdf_zone_wgs84, gdf_geom, how='intersection')"
   ]
  },
  {
   "cell_type": "code",
   "execution_count": null,
   "metadata": {},
   "outputs": [],
   "source": [
    "zone_clean.plot(cmap='OrRd',legend=True)\n",
    "plt.show()"
   ]
  },
  {
   "cell_type": "code",
   "execution_count": null,
   "metadata": {},
   "outputs": [],
   "source": [
    "zone_clean.to_file(driver = 'ESRI Shapefile',\n",
    "                   filename = os.path.join(data_dir, field + '_{}zones_clip.shp'.format(n_zone)))"
   ]
  },
  {
   "cell_type": "code",
   "execution_count": null,
   "metadata": {},
   "outputs": [],
   "source": []
  }
 ],
 "metadata": {
  "kernelspec": {
   "display_name": "Python 3",
   "language": "python",
   "name": "python3"
  },
  "language_info": {
   "codemirror_mode": {
    "name": "ipython",
    "version": 3
   },
   "file_extension": ".py",
   "mimetype": "text/x-python",
   "name": "python",
   "nbconvert_exporter": "python",
   "pygments_lexer": "ipython3",
   "version": "3.6.9"
  }
 },
 "nbformat": 4,
 "nbformat_minor": 4
}
